{
 "cells": [
  {
   "cell_type": "code",
   "execution_count": 1,
   "outputs": [
    {
     "name": "stdout",
     "output_type": "stream",
     "text": [
      "4620 4620\n"
     ]
    }
   ],
   "source": [
    "import numpy as np\n",
    "import pandas as pd\n",
    "from sklearn.model_selection import train_test_split\n",
    "from csce import ensemble_tree, building_under_sampling_data\n",
    "from util import prediction, read, stats\n",
    "\n",
    "file_path = r'.\\jit\\input\\bugzilla.csv'\n",
    "x_data, y_data = read(file_path)\n",
    "print(len(x_data), len(y_data))"
   ],
   "metadata": {
    "collapsed": false,
    "pycharm": {
     "name": "#%%\n"
    }
   }
  },
  {
   "cell_type": "code",
   "execution_count": 5,
   "outputs": [
    {
     "data": {
      "text/plain": "   transactionid  commitdate  ns  nm  nf   entropy        la        ld   \n0              3       11668   1   1   3  0.579380  0.093620  0.000000  \\\n1              7       10876   1   1   1  0.000000  0.000000  0.000000   \n2              8       11822   3   3  52  0.739279  0.183477  0.208913   \n3              9       11708   1   1   8  0.685328  0.016039  0.012880   \n4             10       11675   2   2  38  0.769776  0.091829  0.072746   \n\n           lt  fix  ndev     pd       npt  exp    rexp  sexp  \n0  480.666667    1    14    596  0.666667  143  133.50   129  \n1  398.000000    1     1      0  1.000000  140  140.00   137  \n2  283.519231    0    23  15836  0.750000  984  818.65   978  \n3  514.375000    1    21   1281  1.000000  579  479.25   550  \n4  366.815789    1    21   6565  0.763158  413  313.25   405  ",
      "text/html": "<div>\n<style scoped>\n    .dataframe tbody tr th:only-of-type {\n        vertical-align: middle;\n    }\n\n    .dataframe tbody tr th {\n        vertical-align: top;\n    }\n\n    .dataframe thead th {\n        text-align: right;\n    }\n</style>\n<table border=\"1\" class=\"dataframe\">\n  <thead>\n    <tr style=\"text-align: right;\">\n      <th></th>\n      <th>transactionid</th>\n      <th>commitdate</th>\n      <th>ns</th>\n      <th>nm</th>\n      <th>nf</th>\n      <th>entropy</th>\n      <th>la</th>\n      <th>ld</th>\n      <th>lt</th>\n      <th>fix</th>\n      <th>ndev</th>\n      <th>pd</th>\n      <th>npt</th>\n      <th>exp</th>\n      <th>rexp</th>\n      <th>sexp</th>\n    </tr>\n  </thead>\n  <tbody>\n    <tr>\n      <th>0</th>\n      <td>3</td>\n      <td>11668</td>\n      <td>1</td>\n      <td>1</td>\n      <td>3</td>\n      <td>0.579380</td>\n      <td>0.093620</td>\n      <td>0.000000</td>\n      <td>480.666667</td>\n      <td>1</td>\n      <td>14</td>\n      <td>596</td>\n      <td>0.666667</td>\n      <td>143</td>\n      <td>133.50</td>\n      <td>129</td>\n    </tr>\n    <tr>\n      <th>1</th>\n      <td>7</td>\n      <td>10876</td>\n      <td>1</td>\n      <td>1</td>\n      <td>1</td>\n      <td>0.000000</td>\n      <td>0.000000</td>\n      <td>0.000000</td>\n      <td>398.000000</td>\n      <td>1</td>\n      <td>1</td>\n      <td>0</td>\n      <td>1.000000</td>\n      <td>140</td>\n      <td>140.00</td>\n      <td>137</td>\n    </tr>\n    <tr>\n      <th>2</th>\n      <td>8</td>\n      <td>11822</td>\n      <td>3</td>\n      <td>3</td>\n      <td>52</td>\n      <td>0.739279</td>\n      <td>0.183477</td>\n      <td>0.208913</td>\n      <td>283.519231</td>\n      <td>0</td>\n      <td>23</td>\n      <td>15836</td>\n      <td>0.750000</td>\n      <td>984</td>\n      <td>818.65</td>\n      <td>978</td>\n    </tr>\n    <tr>\n      <th>3</th>\n      <td>9</td>\n      <td>11708</td>\n      <td>1</td>\n      <td>1</td>\n      <td>8</td>\n      <td>0.685328</td>\n      <td>0.016039</td>\n      <td>0.012880</td>\n      <td>514.375000</td>\n      <td>1</td>\n      <td>21</td>\n      <td>1281</td>\n      <td>1.000000</td>\n      <td>579</td>\n      <td>479.25</td>\n      <td>550</td>\n    </tr>\n    <tr>\n      <th>4</th>\n      <td>10</td>\n      <td>11675</td>\n      <td>2</td>\n      <td>2</td>\n      <td>38</td>\n      <td>0.769776</td>\n      <td>0.091829</td>\n      <td>0.072746</td>\n      <td>366.815789</td>\n      <td>1</td>\n      <td>21</td>\n      <td>6565</td>\n      <td>0.763158</td>\n      <td>413</td>\n      <td>313.25</td>\n      <td>405</td>\n    </tr>\n  </tbody>\n</table>\n</div>"
     },
     "execution_count": 5,
     "metadata": {},
     "output_type": "execute_result"
    }
   ],
   "source": [
    "x_data.head()"
   ],
   "metadata": {
    "collapsed": false,
    "pycharm": {
     "name": "#%%\n"
    }
   }
  },
  {
   "cell_type": "code",
   "execution_count": 2,
   "outputs": [],
   "source": [
    "split_n = 5\n",
    "x_arrays = np.array_split(x_data.values, split_n)\n",
    "y_arrays = np.array_split(y_data.values, split_n)\n",
    "x_dfs = [pd.DataFrame(array, columns=x_data.columns) for array in x_arrays]\n",
    "y_dfs = [pd.DataFrame(array, columns=y_data.to_frame().columns) for array in y_arrays]"
   ],
   "metadata": {
    "collapsed": false,
    "pycharm": {
     "name": "#%%\n"
    }
   }
  },
  {
   "cell_type": "code",
   "execution_count": 3,
   "outputs": [
    {
     "name": "stdout",
     "output_type": "stream",
     "text": [
      "4158 4158\n",
      "pos_num:1515, neg_num:2643\n",
      "Accuracy: 0.7142857142857143\n",
      "              precision    recall  f1-score   support\n",
      "\n",
      "           0       0.81      0.69      0.75       281\n",
      "           1       0.61      0.75      0.67       181\n",
      "\n",
      "    accuracy                           0.71       462\n",
      "   macro avg       0.71      0.72      0.71       462\n",
      "weighted avg       0.73      0.71      0.72       462\n",
      "\n",
      "Class 0 -- Precision: 0.8091286307053942, Recall: 0.693950177935943\n",
      "Class 1 -- Precision: 0.6108597285067874, Recall: 0.7458563535911602\n",
      "4158 4158\n",
      "pos_num:1515, neg_num:2643\n",
      "Accuracy: 0.7164502164502164\n",
      "              precision    recall  f1-score   support\n",
      "\n",
      "           0       0.80      0.71      0.75       562\n",
      "           1       0.62      0.73      0.67       362\n",
      "\n",
      "    accuracy                           0.72       924\n",
      "   macro avg       0.71      0.72      0.71       924\n",
      "weighted avg       0.73      0.72      0.72       924\n",
      "\n",
      "Class 0 -- Precision: 0.8024193548387096, Recall: 0.708185053380783\n",
      "Class 1 -- Precision: 0.616822429906542, Recall: 0.7292817679558011\n",
      "4158 4158\n",
      "pos_num:1515, neg_num:2643\n",
      "Accuracy: 0.7056277056277056\n",
      "              precision    recall  f1-score   support\n",
      "\n",
      "           0       0.81      0.67      0.74       843\n",
      "           1       0.60      0.76      0.67       543\n",
      "\n",
      "    accuracy                           0.71      1386\n",
      "   macro avg       0.70      0.71      0.70      1386\n",
      "weighted avg       0.73      0.71      0.71      1386\n",
      "\n",
      "Class 0 -- Precision: 0.8111587982832618, Recall: 0.6725978647686833\n",
      "Class 1 -- Precision: 0.5982532751091703, Recall: 0.7569060773480663\n",
      "4158 4158\n",
      "pos_num:1515, neg_num:2643\n",
      "Accuracy: 0.7164502164502164\n",
      "              precision    recall  f1-score   support\n",
      "\n",
      "           0       0.81      0.69      0.75      1124\n",
      "           1       0.61      0.75      0.67       724\n",
      "\n",
      "    accuracy                           0.72      1848\n",
      "   macro avg       0.71      0.72      0.71      1848\n",
      "weighted avg       0.73      0.72      0.72      1848\n",
      "\n",
      "Class 0 -- Precision: 0.8125, Recall: 0.693950177935943\n",
      "Class 1 -- Precision: 0.6126126126126126, Recall: 0.7513812154696132\n",
      "4158 4158\n",
      "pos_num:1515, neg_num:2643\n",
      "Accuracy: 0.7164502164502164\n",
      "              precision    recall  f1-score   support\n",
      "\n",
      "           0       0.81      0.70      0.75      1405\n",
      "           1       0.61      0.74      0.67       905\n",
      "\n",
      "    accuracy                           0.72      2310\n",
      "   macro avg       0.71      0.72      0.71      2310\n",
      "weighted avg       0.73      0.72      0.72      2310\n",
      "\n",
      "Class 0 -- Precision: 0.8073770491803278, Recall: 0.701067615658363\n",
      "Class 1 -- Precision: 0.6146788990825688, Recall: 0.7403314917127072\n"
     ]
    }
   ],
   "source": [
    "tree_list = []\n",
    "x_test_list = []\n",
    "y_test_list = []\n",
    "for i in range(split_n):\n",
    "    x_train, x_test, y_train, y_test = train_test_split(x_data, y_data, test_size=0.1, random_state=4)\n",
    "    x_test_list.append(x_test)\n",
    "    y_test_list.append(y_test)\n",
    "    current_ensemble_tree = ensemble_tree(10)\n",
    "    current_ensemble_tree = building_under_sampling_data(x_train.values.tolist(), y_train.values.tolist(), current_ensemble_tree)\n",
    "    tree_list.append(current_ensemble_tree)\n",
    "    merged_x_test_df = pd.concat(x_test_list, axis=0, ignore_index=True)\n",
    "    y_pred = prediction(sum(tree_list, []), merged_x_test_df, 0.01)\n",
    "    stats(y_pred, pd.concat(y_test_list, ignore_index=True))"
   ],
   "metadata": {
    "collapsed": false,
    "pycharm": {
     "name": "#%%\n"
    }
   }
  },
  {
   "cell_type": "code",
   "execution_count": null,
   "outputs": [],
   "source": [],
   "metadata": {
    "collapsed": false,
    "pycharm": {
     "name": "#%%\n"
    }
   }
  }
 ],
 "metadata": {
  "kernelspec": {
   "display_name": "Python 3",
   "language": "python",
   "name": "python3"
  },
  "language_info": {
   "codemirror_mode": {
    "name": "ipython",
    "version": 2
   },
   "file_extension": ".py",
   "mimetype": "text/x-python",
   "name": "python",
   "nbconvert_exporter": "python",
   "pygments_lexer": "ipython2",
   "version": "2.7.6"
  }
 },
 "nbformat": 4,
 "nbformat_minor": 0
}