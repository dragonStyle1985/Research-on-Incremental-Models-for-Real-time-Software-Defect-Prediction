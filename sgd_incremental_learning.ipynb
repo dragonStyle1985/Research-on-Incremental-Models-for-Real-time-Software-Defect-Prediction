{
 "cells": [
  {
   "cell_type": "code",
   "execution_count": 1,
   "outputs": [],
   "source": [
    "import numpy as np\n",
    "import pandas as pd\n",
    "from sklearn.linear_model import SGDClassifier\n",
    "from sklearn.model_selection import train_test_split\n",
    "from util import fit\n",
    "from util import stats\n",
    "\n",
    "pd.set_option('display.max_rows', 500)\n",
    "pd.set_option('display.width', 2000)\n",
    "pd.set_option('display.max_columns', 20)\n",
    "pd.set_option('display.max_colwidth', 100)"
   ],
   "metadata": {
    "collapsed": false,
    "pycharm": {
     "name": "#%%\n"
    }
   }
  },
  {
   "cell_type": "code",
   "execution_count": 4,
   "outputs": [],
   "source": [
    "df = pd.read_csv(r'.\\jit\\input\\bugzilla.csv')\n",
    "df['commitdate'] = pd.to_datetime(df['commitdate'])\n",
    "df['commitdate'] = (df['commitdate'] - pd.Timestamp('1970-01-01')) // pd.Timedelta('1D')"
   ],
   "metadata": {
    "collapsed": false,
    "pycharm": {
     "name": "#%%\n"
    }
   }
  },
  {
   "cell_type": "code",
   "execution_count": 5,
   "outputs": [
    {
     "name": "stdout",
     "output_type": "stream",
     "text": [
      "   transactionid  commitdate  ns  nm  nf   entropy        la        ld          lt  fix  ndev     pd       npt  exp    rexp  sexp  bug\n",
      "0              3       11668   1   1   3  0.579380  0.093620  0.000000  480.666667    1    14    596  0.666667  143  133.50   129    1\n",
      "1              7       10876   1   1   1  0.000000  0.000000  0.000000  398.000000    1     1      0  1.000000  140  140.00   137    1\n",
      "2              8       11822   3   3  52  0.739279  0.183477  0.208913  283.519231    0    23  15836  0.750000  984  818.65   978    0\n",
      "3              9       11708   1   1   8  0.685328  0.016039  0.012880  514.375000    1    21   1281  1.000000  579  479.25   550    0\n",
      "4             10       11675   2   2  38  0.769776  0.091829  0.072746  366.815789    1    21   6565  0.763158  413  313.25   405    0\n"
     ]
    }
   ],
   "source": [
    "print(df.head())"
   ],
   "metadata": {
    "collapsed": false,
    "pycharm": {
     "name": "#%%\n"
    }
   }
  },
  {
   "cell_type": "code",
   "execution_count": 6,
   "outputs": [],
   "source": [
    "x = df.iloc[:, :-1]\n",
    "y = df['bug']\n",
    "x_train, x_test, y_train, y_test = train_test_split(x, y, test_size=0.2, random_state=4)\n",
    "model = SGDClassifier(penalty=\"l2\", alpha=0.1, max_iter=800)"
   ],
   "metadata": {
    "collapsed": false,
    "pycharm": {
     "name": "#%%\n"
    }
   }
  },
  {
   "cell_type": "code",
   "execution_count": 7,
   "outputs": [
    {
     "name": "stdout",
     "output_type": "stream",
     "text": [
      "Accuracy: 0.6309523809523809\n",
      "              precision    recall  f1-score   support\n",
      "\n",
      "           0       0.63      1.00      0.77       583\n",
      "           1       0.00      0.00      0.00       341\n",
      "\n",
      "    accuracy                           0.63       924\n",
      "   macro avg       0.32      0.50      0.39       924\n",
      "weighted avg       0.40      0.63      0.49       924\n",
      "\n",
      "Class 0 -- Precision: 0.6309523809523809, Recall: 1.0\n",
      "Class 1 -- Precision: 0.0, Recall: 0.0\n"
     ]
    },
    {
     "name": "stderr",
     "output_type": "stream",
     "text": [
      "D:\\workspace\\python\\Research-on-Incremental-Models-for-Real-time-Software-Defect-Prediction\\venv\\Lib\\site-packages\\sklearn\\base.py:432: UserWarning: X has feature names, but SGDClassifier was fitted without feature names\n",
      "  warnings.warn(\n",
      "D:\\workspace\\python\\Research-on-Incremental-Models-for-Real-time-Software-Defect-Prediction\\venv\\Lib\\site-packages\\sklearn\\metrics\\_classification.py:1344: UndefinedMetricWarning: Precision and F-score are ill-defined and being set to 0.0 in labels with no predicted samples. Use `zero_division` parameter to control this behavior.\n",
      "  _warn_prf(average, modifier, msg_start, len(result))\n",
      "D:\\workspace\\python\\Research-on-Incremental-Models-for-Real-time-Software-Defect-Prediction\\venv\\Lib\\site-packages\\sklearn\\metrics\\_classification.py:1344: UndefinedMetricWarning: Precision and F-score are ill-defined and being set to 0.0 in labels with no predicted samples. Use `zero_division` parameter to control this behavior.\n",
      "  _warn_prf(average, modifier, msg_start, len(result))\n",
      "D:\\workspace\\python\\Research-on-Incremental-Models-for-Real-time-Software-Defect-Prediction\\venv\\Lib\\site-packages\\sklearn\\metrics\\_classification.py:1344: UndefinedMetricWarning: Precision and F-score are ill-defined and being set to 0.0 in labels with no predicted samples. Use `zero_division` parameter to control this behavior.\n",
      "  _warn_prf(average, modifier, msg_start, len(result))\n",
      "D:\\workspace\\python\\Research-on-Incremental-Models-for-Real-time-Software-Defect-Prediction\\venv\\Lib\\site-packages\\sklearn\\metrics\\_classification.py:1344: UndefinedMetricWarning: Precision and F-score are ill-defined and being set to 0.0 in labels with no predicted samples. Use `zero_division` parameter to control this behavior.\n",
      "  _warn_prf(average, modifier, msg_start, len(result))\n"
     ]
    }
   ],
   "source": [
    "model = fit(x_train, y_train, model, np.unique(y))\n",
    "y_pred = model.predict(x_test)\n",
    "stats(y_pred, y_test)"
   ],
   "metadata": {
    "collapsed": false,
    "pycharm": {
     "name": "#%%\n"
    }
   }
  }
 ],
 "metadata": {
  "kernelspec": {
   "display_name": "Python 3",
   "language": "python",
   "name": "python3"
  },
  "language_info": {
   "codemirror_mode": {
    "name": "ipython",
    "version": 2
   },
   "file_extension": ".py",
   "mimetype": "text/x-python",
   "name": "python",
   "nbconvert_exporter": "python",
   "pygments_lexer": "ipython2",
   "version": "2.7.6"
  }
 },
 "nbformat": 4,
 "nbformat_minor": 0
}