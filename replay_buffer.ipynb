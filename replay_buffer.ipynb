{
 "cells": [
  {
   "cell_type": "code",
   "execution_count": 71,
   "outputs": [
    {
     "ename": "ImportError",
     "evalue": "cannot import name 'ReplayBuffer' from 'util' (D:\\workspace\\python\\Research-on-Incremental-Models-for-Real-time-Software-Defect-Prediction\\util.py)",
     "output_type": "error",
     "traceback": [
      "\u001B[1;31m---------------------------------------------------------------------------\u001B[0m",
      "\u001B[1;31mImportError\u001B[0m                               Traceback (most recent call last)",
      "Cell \u001B[1;32mIn[71], line 5\u001B[0m\n\u001B[0;32m      3\u001B[0m \u001B[38;5;28;01mfrom\u001B[39;00m \u001B[38;5;21;01msklearn\u001B[39;00m\u001B[38;5;21;01m.\u001B[39;00m\u001B[38;5;21;01mlinear_model\u001B[39;00m \u001B[38;5;28;01mimport\u001B[39;00m LogisticRegression\n\u001B[0;32m      4\u001B[0m \u001B[38;5;28;01mfrom\u001B[39;00m \u001B[38;5;21;01msklearn\u001B[39;00m\u001B[38;5;21;01m.\u001B[39;00m\u001B[38;5;21;01mmodel_selection\u001B[39;00m \u001B[38;5;28;01mimport\u001B[39;00m train_test_split\n\u001B[1;32m----> 5\u001B[0m \u001B[38;5;28;01mfrom\u001B[39;00m \u001B[38;5;21;01mutil\u001B[39;00m \u001B[38;5;28;01mimport\u001B[39;00m ReplayBuffer\n\u001B[0;32m      6\u001B[0m \u001B[38;5;28;01mfrom\u001B[39;00m \u001B[38;5;21;01mutil\u001B[39;00m \u001B[38;5;28;01mimport\u001B[39;00m stats\n\u001B[0;32m      8\u001B[0m pd\u001B[38;5;241m.\u001B[39mset_option(\u001B[38;5;124m'\u001B[39m\u001B[38;5;124mdisplay.max_rows\u001B[39m\u001B[38;5;124m'\u001B[39m, \u001B[38;5;241m500\u001B[39m)\n",
      "\u001B[1;31mImportError\u001B[0m: cannot import name 'ReplayBuffer' from 'util' (D:\\workspace\\python\\Research-on-Incremental-Models-for-Real-time-Software-Defect-Prediction\\util.py)"
     ]
    }
   ],
   "source": [
    "import numpy as np\n",
    "import pandas as pd\n",
    "from sklearn.linear_model import LogisticRegression\n",
    "from sklearn.model_selection import train_test_split\n",
    "from util import ReplayBuffer\n",
    "from util import stats\n",
    "\n",
    "pd.set_option('display.max_rows', 500)\n",
    "pd.set_option('display.width', 2000)\n",
    "pd.set_option('display.max_columns', 20)\n",
    "pd.set_option('display.max_colwidth', 100)"
   ],
   "metadata": {
    "collapsed": false,
    "pycharm": {
     "name": "#%%\n"
    }
   }
  },
  {
   "cell_type": "code",
   "execution_count": 2,
   "outputs": [],
   "source": [
    "df = pd.read_csv(r'.\\jit\\input\\bugzilla.csv')\n",
    "df['commitdate'] = pd.to_datetime(df['commitdate'])\n",
    "df['commitdate'] = (df['commitdate'] - pd.Timestamp('1970-01-01')) // pd.Timedelta('1D')"
   ],
   "metadata": {
    "collapsed": false,
    "pycharm": {
     "name": "#%%\n"
    }
   }
  },
  {
   "cell_type": "code",
   "execution_count": 45,
   "outputs": [
    {
     "name": "stdout",
     "output_type": "stream",
     "text": [
      "   transactionid  commitdate  ns  nm  nf   entropy        la        ld          lt  fix  ndev     pd       npt  exp    rexp  sexp  bug\n",
      "0              3       11668   1   1   3  0.579380  0.093620  0.000000  480.666667    1    14    596  0.666667  143  133.50   129    1\n",
      "1              7       10876   1   1   1  0.000000  0.000000  0.000000  398.000000    1     1      0  1.000000  140  140.00   137    1\n",
      "2              8       11822   3   3  52  0.739279  0.183477  0.208913  283.519231    0    23  15836  0.750000  984  818.65   978    0\n",
      "3              9       11708   1   1   8  0.685328  0.016039  0.012880  514.375000    1    21   1281  1.000000  579  479.25   550    0\n",
      "4             10       11675   2   2  38  0.769776  0.091829  0.072746  366.815789    1    21   6565  0.763158  413  313.25   405    0\n"
     ]
    }
   ],
   "source": [
    "print(df.head())"
   ],
   "metadata": {
    "collapsed": false,
    "pycharm": {
     "name": "#%%\n"
    }
   }
  },
  {
   "cell_type": "code",
   "execution_count": 50,
   "outputs": [],
   "source": [
    "x = df.iloc[:, :-1]\n",
    "y = df['bug']\n",
    "x_train, x_test, y_train, y_test = train_test_split(x, y, test_size=0.2, random_state=4)"
   ],
   "metadata": {
    "collapsed": false,
    "pycharm": {
     "name": "#%%\n"
    }
   }
  },
  {
   "cell_type": "code",
   "execution_count": 63,
   "outputs": [
    {
     "name": "stderr",
     "output_type": "stream",
     "text": [
      "pydev debugger: Unable to find real location for: C:\\Users\\Administrator\\AppData\\Local\\Temp\\ipykernel_2356\\2556658210.py\n",
      "pydev debugger: Unable to find real location for: C:\\Users\\Administrator\\AppData\\Local\\Temp\\ipykernel_2356\\3430571703.py\n",
      "pydev debugger: Unable to find real location for: <__array_function__ internals>\n"
     ]
    },
    {
     "ename": "ValueError",
     "evalue": "setting an array element with a sequence. The requested array has an inhomogeneous shape after 1 dimensions. The detected shape was (2,) + inhomogeneous part.",
     "output_type": "error",
     "traceback": [
      "\u001B[1;31m---------------------------------------------------------------------------\u001B[0m",
      "\u001B[1;31mValueError\u001B[0m                                Traceback (most recent call last)",
      "Cell \u001B[1;32mIn[63], line 16\u001B[0m\n\u001B[0;32m     13\u001B[0m \u001B[38;5;28;01mif\u001B[39;00m i \u001B[38;5;241m%\u001B[39m batch_size \u001B[38;5;241m==\u001B[39m \u001B[38;5;241m0\u001B[39m \u001B[38;5;129;01mand\u001B[39;00m \u001B[38;5;28mlen\u001B[39m(rb\u001B[38;5;241m.\u001B[39mbuffer) \u001B[38;5;241m>\u001B[39m\u001B[38;5;241m=\u001B[39m batch_size:\n\u001B[0;32m     14\u001B[0m     \u001B[38;5;66;03m# Sample a batch from the buffer\u001B[39;00m\n\u001B[0;32m     15\u001B[0m     experiences \u001B[38;5;241m=\u001B[39m rb\u001B[38;5;241m.\u001B[39msample(batch_size)\n\u001B[1;32m---> 16\u001B[0m     batch_X \u001B[38;5;241m=\u001B[39m \u001B[43mnp\u001B[49m\u001B[38;5;241;43m.\u001B[39;49m\u001B[43marray\u001B[49m\u001B[43m(\u001B[49m\u001B[43m[\u001B[49m\u001B[43mexp\u001B[49m\u001B[43m[\u001B[49m\u001B[38;5;241;43m0\u001B[39;49m\u001B[43m]\u001B[49m\u001B[43m \u001B[49m\u001B[38;5;28;43;01mfor\u001B[39;49;00m\u001B[43m \u001B[49m\u001B[43mexp\u001B[49m\u001B[43m \u001B[49m\u001B[38;5;129;43;01min\u001B[39;49;00m\u001B[43m \u001B[49m\u001B[43mexperiences\u001B[49m\u001B[43m]\u001B[49m\u001B[43m)\u001B[49m\n\u001B[0;32m     17\u001B[0m     batch_y \u001B[38;5;241m=\u001B[39m np\u001B[38;5;241m.\u001B[39marray([exp[\u001B[38;5;241m1\u001B[39m] \u001B[38;5;28;01mfor\u001B[39;00m exp \u001B[38;5;129;01min\u001B[39;00m experiences])\n\u001B[0;32m     19\u001B[0m     \u001B[38;5;66;03m# Train the model on the batch\u001B[39;00m\n",
      "\u001B[1;31mValueError\u001B[0m: setting an array element with a sequence. The requested array has an inhomogeneous shape after 1 dimensions. The detected shape was (2,) + inhomogeneous part."
     ]
    }
   ],
   "source": [
    "# Initialize the logistic regression model and the replay buffer\n",
    "model = LogisticRegression(penalty=\"l2\", C=0.1, max_iter=800)\n",
    "rb = ReplayBuffer(capacity=100)\n",
    "\n",
    "# Training loop with memory replay\n",
    "epochs = 10\n",
    "batch_size = 32\n",
    "\n",
    "for epoch in range(epochs):\n",
    "    for i, (index, row) in enumerate(x_train.iterrows()):\n",
    "        rb.add((row.values, y_train.iloc[i]))\n",
    "\n",
    "        if i % batch_size == 0 and len(rb.buffer) >= batch_size:\n",
    "            # Sample a batch from the buffer\n",
    "            experiences = rb.sample(batch_size)\n",
    "            batch_X = np.array([exp[0] for exp in experiences])\n",
    "            batch_y = np.array([exp[1] for exp in experiences])\n",
    "\n",
    "            # Train the model on the batch\n",
    "            model.partial_fit(batch_X, batch_y, classes=np.unique(y))\n",
    "\n",
    "# Evaluate the model\n",
    "y_pred = model.predict(x_test)"
   ],
   "metadata": {
    "collapsed": false,
    "pycharm": {
     "name": "#%%\n"
    }
   }
  },
  {
   "cell_type": "code",
   "execution_count": 62,
   "outputs": [
    {
     "ename": "NameError",
     "evalue": "name 'y_pred' is not defined",
     "output_type": "error",
     "traceback": [
      "\u001B[1;31m---------------------------------------------------------------------------\u001B[0m",
      "\u001B[1;31mNameError\u001B[0m                                 Traceback (most recent call last)",
      "Cell \u001B[1;32mIn[62], line 1\u001B[0m\n\u001B[1;32m----> 1\u001B[0m stats(\u001B[43my_pred\u001B[49m, y_test)\n",
      "\u001B[1;31mNameError\u001B[0m: name 'y_pred' is not defined"
     ]
    }
   ],
   "source": [
    "stats(y_pred, y_test)"
   ],
   "metadata": {
    "collapsed": false,
    "pycharm": {
     "name": "#%%\n"
    }
   }
  },
  {
   "cell_type": "code",
   "execution_count": null,
   "outputs": [],
   "source": [],
   "metadata": {
    "collapsed": false,
    "pycharm": {
     "name": "#%%\n"
    }
   }
  }
 ],
 "metadata": {
  "kernelspec": {
   "display_name": "Python 3",
   "language": "python",
   "name": "python3"
  },
  "language_info": {
   "codemirror_mode": {
    "name": "ipython",
    "version": 2
   },
   "file_extension": ".py",
   "mimetype": "text/x-python",
   "name": "python",
   "nbconvert_exporter": "python",
   "pygments_lexer": "ipython2",
   "version": "2.7.6"
  }
 },
 "nbformat": 4,
 "nbformat_minor": 0
}